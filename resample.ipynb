{
 "cells": [
  {
   "cell_type": "code",
   "execution_count": 12,
   "metadata": {},
   "outputs": [],
   "source": [
    "import os"
   ]
  },
  {
   "cell_type": "code",
   "execution_count": 9,
   "metadata": {},
   "outputs": [],
   "source": [
    "input_folder = \"/isilon/Datasets/Audio/Valentini/noisy_testset_wav\"\n",
    "output_folder = \"/isilon/Datasets/Audio/Valentini/16000/noisy_testset_wav\"\n",
    "for f in os.listdir(input_folder):\n",
    "    if \".wav\" in f:\n",
    "        cmd = \"ffmpeg -i \" + os.path.join(input_folder, f) + \" -ar 16000 \" + os.path.join(output_folder, f) \n",
    "        os.system(cmd)"
   ]
  }
 ],
 "metadata": {
  "kernelspec": {
   "display_name": "Python 3",
   "language": "python",
   "name": "python3"
  },
  "language_info": {
   "codemirror_mode": {
    "name": "ipython",
    "version": 3
   },
   "file_extension": ".py",
   "mimetype": "text/x-python",
   "name": "python",
   "nbconvert_exporter": "python",
   "pygments_lexer": "ipython3",
   "version": "3.6.9"
  }
 },
 "nbformat": 4,
 "nbformat_minor": 4
}
