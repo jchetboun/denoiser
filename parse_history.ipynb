{
 "cells": [
  {
   "cell_type": "code",
   "execution_count": 1,
   "metadata": {},
   "outputs": [],
   "source": [
    "import json\n",
    "import matplotlib.pyplot as plt"
   ]
  },
  {
   "cell_type": "code",
   "execution_count": 152,
   "metadata": {},
   "outputs": [],
   "source": [
    "history_file_ref = \"/Users/jchetboun/Cnvrg/Audio/audio-denoising/output/exp_batch_size=128,demucs.causal=False,demucs.depth=4,demucs.hidden=16,demucs.kernel_size=12,demucs.resample=1,dset=dns,epochs=250,revecho=1,segment=10,shift=16000,shift_same=True,stride=2/history.json\"\n",
    "keyword = 'stoi'\n",
    "f_ref = open(history_file_ref,)\n",
    "raw_data_ref = json.load(f_ref)"
   ]
  },
  {
   "cell_type": "code",
   "execution_count": 153,
   "metadata": {},
   "outputs": [],
   "source": [
    "data_ref = []\n",
    "for d in raw_data_ref:\n",
    "    if keyword in d:\n",
    "        data_ref.append(d[keyword])"
   ]
  },
  {
   "cell_type": "code",
   "execution_count": 154,
   "metadata": {},
   "outputs": [
    {
     "data": {
      "text/plain": [
       "[<matplotlib.lines.Line2D at 0x7f8262489e10>]"
      ]
     },
     "execution_count": 154,
     "metadata": {},
     "output_type": "execute_result"
    },
    {
     "data": {
      "image/png": "[encoded data removed]",
      "text/plain": [
       "<Figure size 432x288 with 1 Axes>"
      ]
     },
     "metadata": {
      "needs_background": "light"
     },
     "output_type": "display_data"
    }
   ],
   "source": [
    "plt.plot(data_ref)"
   ]
  },
  {
   "cell_type": "code",
   "execution_count": 155,
   "metadata": {},
   "outputs": [
    {
     "name": "stdout",
     "output_type": "stream",
     "text": [
      "0.8565123677253723\n",
      "0.8887938261032104\n",
      "0.9069635272026062\n",
      "0.9132294654846191\n",
      "0.9176218509674072\n",
      "0.9187875390052795\n",
      "0.921481192111969\n",
      "0.9210491180419922\n",
      "0.9285308718681335\n",
      "0.9259564280509949\n",
      "0.9279075264930725\n",
      "0.9301953315734863\n",
      "0.9320433735847473\n",
      "0.9317240118980408\n",
      "0.9309001564979553\n",
      "0.9356185793876648\n",
      "0.9337310791015625\n",
      "0.9335105419158936\n",
      "0.9347862005233765\n",
      "0.9347757697105408\n",
      "0.936750590801239\n",
      "0.9355221390724182\n",
      "0.9365893602371216\n",
      "0.939476728439331\n",
      "0.9367435574531555\n",
      "0.9395847320556641\n",
      "0.9365880489349365\n",
      "0.9383687376976013\n",
      "0.940018892288208\n",
      "0.9390583038330078\n",
      "0.9400553107261658\n",
      "0.9403035640716553\n",
      "0.9394421577453613\n",
      "0.9386393427848816\n",
      "0.9411212205886841\n",
      "0.9401586055755615\n",
      "0.9409661889076233\n",
      "0.9425813555717468\n",
      "0.9401902556419373\n",
      "0.9401600956916809\n",
      "0.9410451054573059\n",
      "0.9409745335578918\n",
      "0.9415002465248108\n",
      "0.9416540265083313\n",
      "0.9412364959716797\n",
      "0.93918377161026\n",
      "0.941609799861908\n",
      "0.9419142603874207\n",
      "0.9429705739021301\n",
      "0.9427663087844849\n",
      "0.9423589110374451\n",
      "0.944145917892456\n",
      "0.942104697227478\n",
      "0.942101240158081\n",
      "0.9437477588653564\n",
      "0.9411747455596924\n",
      "0.9428130984306335\n",
      "0.9418035745620728\n",
      "0.9432510137557983\n",
      "0.9436865448951721\n",
      "0.942013680934906\n",
      "0.9420625567436218\n",
      "0.9438159465789795\n"
     ]
    }
   ],
   "source": [
    "for d in data_ref:\n",
    "    print(d)"
   ]
  },
  {
   "cell_type": "code",
   "execution_count": null,
   "metadata": {},
   "outputs": [],
   "source": []
  }
 ],
 "metadata": {
  "kernelspec": {
   "display_name": "Python 3",
   "language": "python",
   "name": "python3"
  },
  "language_info": {
   "codemirror_mode": {
    "name": "ipython",
    "version": 3
   },
   "file_extension": ".py",
   "mimetype": "text/x-python",
   "name": "python",
   "nbconvert_exporter": "python",
   "pygments_lexer": "ipython3",
   "version": "3.7.8"
  }
 },
 "nbformat": 4,
 "nbformat_minor": 4
}
