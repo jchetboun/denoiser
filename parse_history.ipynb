{
 "cells": [
  {
   "cell_type": "code",
   "execution_count": 264,
   "metadata": {},
   "outputs": [],
   "source": [
    "import json\n",
    "import matplotlib.pyplot as plt"
   ]
  },
  {
   "cell_type": "code",
   "execution_count": 405,
   "metadata": {},
   "outputs": [],
   "source": [
    "# history_file_ref = \"/Users/jchetboun/Cnvrg/Audio/audio-denoising/output/exp_batch_size=256,demucs.causal=False,demucs.depth=3,demucs.hidden=48,demucs.kernel_size=12,demucs.resample=1,dset=combined,epochs=500,revecho=1,segment=5,shift=8000,shift_same=True,stride=1/history.json\"\n",
    "history_file_ref = \"/Users/jchetboun/Cnvrg/Audio/audio-denoising/output/exp_bandmask=0.2,batch_size=256,demucs.causal=False,demucs.depth=3,demucs.hidden=48,demucs.kernel_size=12,demucs.resample=1,dset=combined,epochs=500,revecho=1,segment=5,shift=8000,shift_same=True,stride=1/history.json\"\n",
    "keyword = \"pesq\"\n",
    "f_ref = open(history_file_ref,)\n",
    "raw_data_ref = json.load(f_ref)"
   ]
  },
  {
   "cell_type": "code",
   "execution_count": 406,
   "metadata": {},
   "outputs": [],
   "source": [
    "data_ref = []\n",
    "for d in raw_data_ref:\n",
    "    if keyword in d:\n",
    "        data_ref.append(d[keyword])"
   ]
  },
  {
   "cell_type": "code",
   "execution_count": 409,
   "metadata": {},
   "outputs": [
    {
     "data": {
      "text/plain": [
       "[<matplotlib.lines.Line2D at 0x7fa8e82350d0>]"
      ]
     },
     "execution_count": 409,
     "metadata": {},
     "output_type": "execute_result"
    },
    {
     "data": {
      "image/png": "[encoded data removed]",
      "text/plain": [
       "<Figure size 432x288 with 1 Axes>"
      ]
     },
     "metadata": {
      "needs_background": "light"
     },
     "output_type": "display_data"
    }
   ],
   "source": [
    "plt.plot(data_ref[:20])"
   ]
  },
  {
   "cell_type": "code",
   "execution_count": 410,
   "metadata": {},
   "outputs": [
    {
     "name": "stdout",
     "output_type": "stream",
     "text": [
      "2.2108166217803955\n",
      "2.3515126705169678\n",
      "2.435530662536621\n",
      "2.487393617630005\n",
      "2.5649445056915283\n",
      "2.5479304790496826\n",
      "2.5751190185546875\n",
      "2.5632219314575195\n",
      "2.5814974308013916\n",
      "2.5794341564178467\n",
      "2.5749330520629883\n",
      "2.5793261528015137\n",
      "2.5977234840393066\n",
      "2.506340742111206\n",
      "2.619720458984375\n",
      "2.644632577896118\n",
      "2.6426985263824463\n",
      "2.62632155418396\n",
      "2.574803113937378\n",
      "2.634620428085327\n",
      "2.2899348735809326\n",
      "2.6045796871185303\n",
      "2.6194283962249756\n",
      "2.611165761947632\n",
      "2.637538194656372\n",
      "2.6680870056152344\n",
      "2.3535592555999756\n",
      "2.544027328491211\n",
      "2.6194915771484375\n",
      "2.63271427154541\n",
      "2.5634920597076416\n"
     ]
    }
   ],
   "source": [
    "for d in data_ref:\n",
    "    print(d)"
   ]
  },
  {
   "cell_type": "code",
   "execution_count": 411,
   "metadata": {},
   "outputs": [
    {
     "data": {
      "text/plain": [
       "2.2899348735809326"
      ]
     },
     "execution_count": 411,
     "metadata": {},
     "output_type": "execute_result"
    }
   ],
   "source": [
    "data_ref[20]"
   ]
  },
  {
   "cell_type": "code",
   "execution_count": null,
   "metadata": {},
   "outputs": [],
   "source": []
  }
 ],
 "metadata": {
  "kernelspec": {
   "display_name": "Python 3",
   "language": "python",
   "name": "python3"
  },
  "language_info": {
   "codemirror_mode": {
    "name": "ipython",
    "version": 3
   },
   "file_extension": ".py",
   "mimetype": "text/x-python",
   "name": "python",
   "nbconvert_exporter": "python",
   "pygments_lexer": "ipython3",
   "version": "3.7.8"
  }
 },
 "nbformat": 4,
 "nbformat_minor": 4
}
